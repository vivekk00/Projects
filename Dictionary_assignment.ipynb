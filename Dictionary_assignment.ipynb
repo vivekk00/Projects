{
 "cells": [
  {
   "cell_type": "code",
   "execution_count": 8,
   "id": "3732bd78",
   "metadata": {
    "editable": false
   },
   "outputs": [],
   "source": [
    "book = {}\n",
    "def info_book():\n",
    "    \"\"\"Creates a phone book with names as key and a list of dictionaries as values\"\"\"\n",
    "    \n",
    "    while True:\n",
    "        names = input('Please enter the First and Last name separated by space (or type \"exit\" to quit): ')\n",
    "        if names.lower() == 'exit':\n",
    "            break\n",
    "            \n",
    "        number = input('Please enter the phone number: ')\n",
    "        address = input('Please enter your location: ')\n",
    "        full_name = \" \".join(names.split())\n",
    "        # Check if the full name exists in the phone book\n",
    "        if full_name in book:\n",
    "            # If the name exists , append the new entry to the existing list of entries\n",
    "            book[full_name].append({ 'address' : address, 'number' : number })\n",
    "        else :\n",
    "            # If the name does not exist, create a new entry with a list containing the dictionary\n",
    "            book[full_name] = [{ 'address' : address, 'number' : number }]\n",
    "    \n",
    "    return book\n"
   ]
  },
  {
   "cell_type": "code",
   "execution_count": 40,
   "id": "ca0855bd",
   "metadata": {},
   "outputs": [
    {
     "name": "stdout",
     "output_type": "stream",
     "text": [
      "Please enter the First and Last name separated by space (or type \"exit\" to quit): ajay kumar\n",
      "Please enter the phone number: 555010898\n",
      "Please enter your location: pune\n",
      "Please enter the First and Last name separated by space (or type \"exit\" to quit): exit\n"
     ]
    }
   ],
   "source": [
    "phonebook = info_book()"
   ]
  },
  {
   "cell_type": "markdown",
   "id": "63db51e4",
   "metadata": {},
   "source": [
    "# Question 1"
   ]
  },
  {
   "cell_type": "code",
   "execution_count": 10,
   "id": "98ee40e3",
   "metadata": {},
   "outputs": [
    {
     "data": {
      "text/plain": [
       "dict_keys(['vivek singh', 'ayush rexwal', 'vishal dhami', 'yash kumar', 'hunny bhardwaj'])"
      ]
     },
     "execution_count": 10,
     "metadata": {},
     "output_type": "execute_result"
    }
   ],
   "source": [
    "phonebook.keys()"
   ]
  },
  {
   "cell_type": "markdown",
   "id": "c3fa1121",
   "metadata": {},
   "source": [
    "# Question 2"
   ]
  },
  {
   "cell_type": "code",
   "execution_count": 11,
   "id": "b0108c97",
   "metadata": {},
   "outputs": [
    {
     "data": {
      "text/plain": [
       "dict_items([('vivek singh', [{'address': 'delhi', 'number': '98732213'}]), ('ayush rexwal', [{'address': 'mumbai', 'number': '93871881'}]), ('vishal dhami', [{'address': 'uttrakhand', 'number': '9397462972'}]), ('yash kumar', [{'address': 'bihar', 'number': '947836322'}]), ('hunny bhardwaj', [{'address': 'jajjar', 'number': '893789829'}])])"
      ]
     },
     "execution_count": 11,
     "metadata": {},
     "output_type": "execute_result"
    }
   ],
   "source": [
    "phonebook.items()"
   ]
  },
  {
   "cell_type": "markdown",
   "id": "2523f68c",
   "metadata": {},
   "source": [
    "# Question 3\n"
   ]
  },
  {
   "cell_type": "code",
   "execution_count": 13,
   "id": "c9dde12a",
   "metadata": {},
   "outputs": [],
   "source": [
    "phonebook.setdefault('vipin kumar')"
   ]
  },
  {
   "cell_type": "code",
   "execution_count": 14,
   "id": "eba3b20c",
   "metadata": {},
   "outputs": [
    {
     "data": {
      "text/plain": [
       "{'vivek singh': [{'address': 'delhi', 'number': '98732213'}],\n",
       " 'ayush rexwal': [{'address': 'mumbai', 'number': '93871881'}],\n",
       " 'vishal dhami': [{'address': 'uttrakhand', 'number': '9397462972'}],\n",
       " 'yash kumar': [{'address': 'bihar', 'number': '947836322'}],\n",
       " 'hunny bhardwaj': [{'address': 'jajjar', 'number': '893789829'}],\n",
       " 'vipin kumar': None}"
      ]
     },
     "execution_count": 14,
     "metadata": {},
     "output_type": "execute_result"
    }
   ],
   "source": [
    "phonebook"
   ]
  },
  {
   "cell_type": "markdown",
   "id": "7c5e071d",
   "metadata": {},
   "source": [
    "# Question 4"
   ]
  },
  {
   "cell_type": "code",
   "execution_count": 16,
   "id": "ab277690",
   "metadata": {},
   "outputs": [
    {
     "data": {
      "text/plain": [
       "{'vivek singh': [{'address': 'delhi', 'number': '98732213'}],\n",
       " 'ayush rexwal': [{'address': 'mumbai', 'number': '93871881'}],\n",
       " 'vishal dhami': [{'address': 'uttrakhand', 'number': '9397462972'}],\n",
       " 'yash kumar': [{'address': 'bihar', 'number': '947836322'}],\n",
       " 'hunny bhardwaj': [{'address': 'jajjar', 'number': '893789829'}],\n",
       " 'vipin kumar': None,\n",
       " 'ajay kumar': [{'address': 'pune', 'number': '555010898'}]}"
      ]
     },
     "execution_count": 16,
     "metadata": {},
     "output_type": "execute_result"
    }
   ],
   "source": [
    "phonebook"
   ]
  },
  {
   "cell_type": "markdown",
   "id": "c2e77c35",
   "metadata": {},
   "source": [
    "# Question 5"
   ]
  },
  {
   "cell_type": "code",
   "execution_count": 41,
   "id": "eb18b2da",
   "metadata": {},
   "outputs": [
    {
     "data": {
      "text/plain": [
       "{'vivek singh': [{'address': 'delhi', 'number': '98732213'}],\n",
       " 'ayush rexwal': [{'address': 'mumbai', 'number': '93871881'}],\n",
       " 'vishal dhami': [{'address': 'uttrakhand', 'number': '9397462972'}],\n",
       " 'yash kumar': [{'address': 'bihar', 'number': '947836322'}],\n",
       " 'hunny bhardwaj': [{'address': 'jajjar', 'number': '893789829'}],\n",
       " 'vipin kumar': None,\n",
       " 'ajay kumar': [{'address': 'pune', 'number': '555010898'}]}"
      ]
     },
     "execution_count": 41,
     "metadata": {},
     "output_type": "execute_result"
    }
   ],
   "source": [
    "phonebook"
   ]
  },
  {
   "cell_type": "code",
   "execution_count": 54,
   "id": "5aeee001",
   "metadata": {},
   "outputs": [],
   "source": [
    "phonebook['ajay kumar'][0]['address'] = 'new york'"
   ]
  },
  {
   "cell_type": "code",
   "execution_count": 58,
   "id": "d2d3d910",
   "metadata": {},
   "outputs": [],
   "source": [
    "phonebook['ajay kumar'][0]['number'] = 444333888"
   ]
  },
  {
   "cell_type": "code",
   "execution_count": 60,
   "id": "3b08f019",
   "metadata": {},
   "outputs": [
    {
     "data": {
      "text/plain": [
       "{'vivek singh': [{'address': 'delhi', 'number': '98732213'}],\n",
       " 'ayush rexwal': [{'address': 'mumbai', 'number': '93871881'}],\n",
       " 'vishal dhami': [{'address': 'uttrakhand', 'number': '9397462972'}],\n",
       " 'yash kumar': [{'address': 'bihar', 'number': '947836322'}],\n",
       " 'hunny bhardwaj': [{'address': 'jajjar', 'number': '893789829'}],\n",
       " 'vipin kumar': None,\n",
       " 'ajay kumar': [{'address': 'new york', 'number': 444333888}]}"
      ]
     },
     "execution_count": 60,
     "metadata": {},
     "output_type": "execute_result"
    }
   ],
   "source": [
    "phonebook"
   ]
  },
  {
   "cell_type": "markdown",
   "id": "3a6e6fe7",
   "metadata": {},
   "source": [
    "# Question 6"
   ]
  },
  {
   "cell_type": "code",
   "execution_count": 61,
   "id": "41830005",
   "metadata": {},
   "outputs": [],
   "source": [
    "phoneinfo = {'Anjali Mehta': [{'address': 'Sydney', 'number': 500600700}],\n",
    "'John Jhonson': [{'address': 'London', 'number': 888000111}],\n",
    "'Robert Frost': [{'address': 'California', 'number': 464555202}],\n",
    "'Vidit Gujarati':[{'address': 'Mumbai', 'number': 7711155530}],\n",
    "'Rahul Khanna': [{'address': 'Delhi', 'number': 8000500023}]}"
   ]
  },
  {
   "cell_type": "code",
   "execution_count": 62,
   "id": "21e9c506",
   "metadata": {},
   "outputs": [],
   "source": [
    "phonebook.update(phoneinfo)"
   ]
  },
  {
   "cell_type": "code",
   "execution_count": 63,
   "id": "1d0a4c75",
   "metadata": {},
   "outputs": [
    {
     "data": {
      "text/plain": [
       "{'vivek singh': [{'address': 'delhi', 'number': '98732213'}],\n",
       " 'ayush rexwal': [{'address': 'mumbai', 'number': '93871881'}],\n",
       " 'vishal dhami': [{'address': 'uttrakhand', 'number': '9397462972'}],\n",
       " 'yash kumar': [{'address': 'bihar', 'number': '947836322'}],\n",
       " 'hunny bhardwaj': [{'address': 'jajjar', 'number': '893789829'}],\n",
       " 'vipin kumar': None,\n",
       " 'ajay kumar': [{'address': 'new york', 'number': 444333888}],\n",
       " 'Anjali Mehta': [{'address': 'Sydney', 'number': 500600700}],\n",
       " 'John Jhonson': [{'address': 'London', 'number': 888000111}],\n",
       " 'Robert Frost': [{'address': 'California', 'number': 464555202}],\n",
       " 'Vidit Gujarati': [{'address': 'Mumbai', 'number': 7711155530}],\n",
       " 'Rahul Khanna': [{'address': 'Delhi', 'number': 8000500023}]}"
      ]
     },
     "execution_count": 63,
     "metadata": {},
     "output_type": "execute_result"
    }
   ],
   "source": [
    "phonebook"
   ]
  },
  {
   "cell_type": "markdown",
   "id": "986732dd",
   "metadata": {},
   "source": [
    "# Question 7"
   ]
  },
  {
   "cell_type": "code",
   "execution_count": 66,
   "id": "8e4e2bc8",
   "metadata": {},
   "outputs": [],
   "source": [
    "del phonebook['Anjali Mehta']"
   ]
  },
  {
   "cell_type": "code",
   "execution_count": 67,
   "id": "afd8dd0d",
   "metadata": {},
   "outputs": [
    {
     "data": {
      "text/plain": [
       "{'vivek singh': [{'address': 'delhi', 'number': '98732213'}],\n",
       " 'ayush rexwal': [{'address': 'mumbai', 'number': '93871881'}],\n",
       " 'vishal dhami': [{'address': 'uttrakhand', 'number': '9397462972'}],\n",
       " 'yash kumar': [{'address': 'bihar', 'number': '947836322'}],\n",
       " 'hunny bhardwaj': [{'address': 'jajjar', 'number': '893789829'}],\n",
       " 'vipin kumar': None,\n",
       " 'ajay kumar': [{'address': 'new york', 'number': 444333888}],\n",
       " 'John Jhonson': [{'address': 'London', 'number': 888000111}],\n",
       " 'Robert Frost': [{'address': 'California', 'number': 464555202}],\n",
       " 'Vidit Gujarati': [{'address': 'Mumbai', 'number': 7711155530}],\n",
       " 'Rahul Khanna': [{'address': 'Delhi', 'number': 8000500023}]}"
      ]
     },
     "execution_count": 67,
     "metadata": {},
     "output_type": "execute_result"
    }
   ],
   "source": [
    "phonebook"
   ]
  },
  {
   "cell_type": "markdown",
   "id": "c46626a2",
   "metadata": {},
   "source": [
    "# Question 8"
   ]
  },
  {
   "cell_type": "code",
   "execution_count": 68,
   "id": "c2253b4f",
   "metadata": {},
   "outputs": [
    {
     "name": "stdout",
     "output_type": "stream",
     "text": [
      "{'vivek singh': [{'address': 'delhi', 'number': '98732213'}], 'ayush rexwal': [{'address': 'mumbai', 'number': '93871881'}], 'vishal dhami': [{'address': 'uttrakhand', 'number': '9397462972'}], 'yash kumar': [{'address': 'bihar', 'number': '947836322'}], 'hunny bhardwaj': [{'address': 'jajjar', 'number': '893789829'}], 'vipin kumar': None, 'ajay kumar': [{'address': 'new york', 'number': 444333888}], 'John Jhonson': [{'address': 'London', 'number': 888000111}], 'Robert Frost': [{'address': 'California', 'number': 464555202}], 'Vidit Gujarati': [{'address': 'Mumbai', 'number': 7711155530}], 'Rahul Khanna': [{'address': 'Delhi', 'number': 8000500023}]}\n"
     ]
    }
   ],
   "source": [
    "print(phonebook)"
   ]
  },
  {
   "cell_type": "code",
   "execution_count": null,
   "id": "78e3d141",
   "metadata": {},
   "outputs": [],
   "source": []
  }
 ],
 "metadata": {
  "kernelspec": {
   "display_name": "Python 3 (ipykernel)",
   "language": "python",
   "name": "python3"
  },
  "language_info": {
   "codemirror_mode": {
    "name": "ipython",
    "version": 3
   },
   "file_extension": ".py",
   "mimetype": "text/x-python",
   "name": "python",
   "nbconvert_exporter": "python",
   "pygments_lexer": "ipython3",
   "version": "3.11.5"
  }
 },
 "nbformat": 4,
 "nbformat_minor": 5
}
